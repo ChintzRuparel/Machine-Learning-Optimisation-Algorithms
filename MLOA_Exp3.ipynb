{
  "nbformat": 4,
  "nbformat_minor": 0,
  "metadata": {
    "colab": {
      "provenance": [],
      "include_colab_link": true
    },
    "kernelspec": {
      "name": "python3",
      "display_name": "Python 3"
    },
    "language_info": {
      "name": "python"
    }
  },
  "cells": [
    {
      "cell_type": "markdown",
      "metadata": {
        "id": "view-in-github",
        "colab_type": "text"
      },
      "source": [
        "<a href=\"https://colab.research.google.com/github/ChintzRuparel/Machine-Learning-Optimisation-Algorithms/blob/main/MLOA_Exp3.ipynb\" target=\"_parent\"><img src=\"https://colab.research.google.com/assets/colab-badge.svg\" alt=\"Open In Colab\"/></a>"
      ]
    },
    {
      "cell_type": "code",
      "source": [
        "#2\n",
        "def max_cost_path(grid):\n",
        "    m = len(grid)\n",
        "    n = len(grid[0])\n",
        "    dp = [[0 for x in range(n+1)] for y in range(m+1)]\n",
        "    for i in range(m-1, -1, -1):\n",
        "        for j in range(n-1, -1, -1):\n",
        "            dp[i][j] = grid[i][j] + max(dp[i+1][j], dp[i][j+1])\n",
        "    return dp[0][0]\n"
      ],
      "metadata": {
        "id": "K5y2vn77-5wQ"
      },
      "execution_count": null,
      "outputs": []
    },
    {
      "cell_type": "code",
      "source": [
        "grid = [[1,2,3], [4,5,6], [7,8,9]]\n",
        "print(max_cost_path(grid))"
      ],
      "metadata": {
        "colab": {
          "base_uri": "https://localhost:8080/"
        },
        "id": "rFSO6y9Q_4Kr",
        "outputId": "9439777c-752f-4c68-978f-e8fff6792851"
      },
      "execution_count": null,
      "outputs": [
        {
          "output_type": "stream",
          "name": "stdout",
          "text": [
            "29\n"
          ]
        }
      ]
    },
    {
      "cell_type": "code",
      "source": [
        "#Q3\n",
        "from math import comb\n",
        "\n",
        "def max_nPr(arr):\n",
        "    n = max(arr)\n",
        "    max_nPr = 0\n",
        "    max_r = 0\n",
        "    for r in range(n+1):\n",
        "        nPr = comb(n, r)\n",
        "        if nPr > max_nPr:\n",
        "            max_nPr = nPr\n",
        "            max_r = r\n",
        "    return (n, max_r)\n"
      ],
      "metadata": {
        "id": "2K_MHRO9_5qa"
      },
      "execution_count": null,
      "outputs": []
    },
    {
      "cell_type": "code",
      "source": [
        "arr = [1, 2, 3, 4, 5]\n",
        "print(max_nPr(arr))\n"
      ],
      "metadata": {
        "colab": {
          "base_uri": "https://localhost:8080/"
        },
        "id": "v1kIxKEn_-3S",
        "outputId": "cdc90fe6-0ffc-4c74-c3ee-4959a9c6de6c"
      },
      "execution_count": null,
      "outputs": [
        {
          "output_type": "stream",
          "name": "stdout",
          "text": [
            "(5, 2)\n"
          ]
        }
      ]
    },
    {
      "cell_type": "code",
      "source": [
        "#Q1\n",
        "def min_flips_to_min_sum(arr):\n",
        "    arr.sort()\n",
        "    total = sum(arr)\n",
        "    flips = 0\n",
        "    for i in range(len(arr)):\n",
        "        if total <= 0:\n",
        "            break\n",
        "        total += 2*arr[i]\n",
        "        flips += 1\n",
        "    return flips\n",
        "\n",
        "\n",
        "arr = [3, -2, 5, -1, 1]\n",
        "print(\"Minimum number of sign flips:\", min_flips_to_min_sum(arr))"
      ],
      "metadata": {
        "colab": {
          "base_uri": "https://localhost:8080/"
        },
        "id": "rpGkc3Ze__cn",
        "outputId": "14d311fc-6c2e-400c-c5ff-785f565329e4"
      },
      "execution_count": null,
      "outputs": [
        {
          "output_type": "stream",
          "name": "stdout",
          "text": [
            "Minimum number of sign flips: 2\n"
          ]
        }
      ]
    },
    {
      "cell_type": "code",
      "source": [
        "#Q1\n",
        "def min_flips_to_min_sum(arr):\n",
        "    arr.sort()\n",
        "    total = sum(arr)\n",
        "    flips = 0\n",
        "    for i in range(len(arr)):\n",
        "        if total >= 0:\n",
        "          return total\n",
        "          break\n",
        "        total += 2*arr[i]\n",
        "        flips += 1\n",
        "    return flips\n",
        "\n",
        "\n",
        "arr = [1,2,3, 7]\n",
        "print(\"Minimum number of sign flips:\", min_flips_to_min_sum(arr))"
      ],
      "metadata": {
        "colab": {
          "base_uri": "https://localhost:8080/"
        },
        "id": "O4NY1-jeBfai",
        "outputId": "659d3598-dc42-4242-8259-651a59197ced"
      },
      "execution_count": null,
      "outputs": [
        {
          "output_type": "stream",
          "name": "stdout",
          "text": [
            "Minimum number of sign flips: 13\n"
          ]
        }
      ]
    },
    {
      "cell_type": "code",
      "source": [],
      "metadata": {
        "id": "yY3Qc0LFESoW"
      },
      "execution_count": null,
      "outputs": []
    }
  ]
}